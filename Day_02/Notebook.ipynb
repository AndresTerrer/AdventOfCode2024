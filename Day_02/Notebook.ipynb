{
 "cells": [
  {
   "cell_type": "markdown",
   "id": "9ef16f2f",
   "metadata": {},
   "source": [
    "# Day 2: Red-Nosed Reports\n",
    "```\n",
    "Fortunately, the first location The Historians want to search isn't a long walk from the Chief Historian's office.\n",
    "\n",
    "While the Red-Nosed Reindeer nuclear fusion/fission plant appears to contain no sign of the Chief Historian, the engineers there run up to you as soon as they see you. Apparently, they still talk about the time Rudolph was saved through molecular synthesis from a single electron.\n",
    "\n",
    "They're quick to add that - since you're already here - they'd really appreciate your help analyzing some unusual data from the Red-Nosed reactor. You turn to check if The Historians are waiting for you, but they seem to have already divided into groups that are currently searching every corner of the facility. You offer to help with the unusual data.\n",
    "\n",
    "The unusual data (your puzzle input) consists of many reports, one report per line. Each report is a list of numbers called levels that are separated by spaces. For example:\n",
    "\n",
    "7 6 4 2 1\n",
    "1 2 7 8 9\n",
    "9 7 6 2 1\n",
    "1 3 2 4 5\n",
    "8 6 4 4 1\n",
    "1 3 6 7 9\n",
    "This example data contains six reports each containing five levels.\n",
    "\n",
    "The engineers are trying to figure out which reports are safe. The Red-Nosed reactor safety systems can only tolerate levels that are either gradually increasing or gradually decreasing. So, a report only counts as safe if both of the following are true:\n",
    "\n",
    "The levels are either all increasing or all decreasing.\n",
    "Any two adjacent levels differ by at least one and at most three.\n",
    "In the example above, the reports can be found safe or unsafe by checking those rules:\n",
    "\n",
    "7 6 4 2 1: Safe because the levels are all decreasing by 1 or 2.\n",
    "1 2 7 8 9: Unsafe because 2 7 is an increase of 5.\n",
    "9 7 6 2 1: Unsafe because 6 2 is a decrease of 4.\n",
    "1 3 2 4 5: Unsafe because 1 3 is increasing but 3 2 is decreasing.\n",
    "8 6 4 4 1: Unsafe because 4 4 is neither an increase or a decrease.\n",
    "1 3 6 7 9: Safe because the levels are all increasing by 1, 2, or 3.\n",
    "So, in this example, 2 reports are safe.\n",
    "\n",
    "Analyze the unusual data from the engineers. How many reports are safe?\n",
    "```"
   ]
  },
  {
   "cell_type": "code",
   "execution_count": 34,
   "id": "ac3d8799",
   "metadata": {},
   "outputs": [
    {
     "data": {
      "text/plain": [
       "[[7, 6, 4, 2, 1],\n",
       " [1, 2, 7, 8, 9],\n",
       " [9, 7, 6, 2, 1],\n",
       " [1, 3, 2, 4, 5],\n",
       " [8, 6, 4, 4, 1],\n",
       " [1, 3, 6, 7, 9]]"
      ]
     },
     "execution_count": 34,
     "metadata": {},
     "output_type": "execute_result"
    }
   ],
   "source": [
    "import sys\n",
    "sys.path.append(\"..\")\n",
    "\n",
    "from common_processing import read_lines, integer_lists\n",
    "\n",
    "test_path = \"test.txt\"\n",
    "data_path = \"data.txt\"\n",
    "\n",
    "data = integer_lists(read_lines(test_path))\n",
    "data"
   ]
  },
  {
   "cell_type": "code",
   "execution_count": null,
   "id": "34e29c06",
   "metadata": {},
   "outputs": [
    {
     "name": "stdout",
     "output_type": "stream",
     "text": [
      "True\n",
      "False\n",
      "False\n",
      "False\n",
      "False\n",
      "True\n",
      "Number of safe records:  2\n"
     ]
    }
   ],
   "source": [
    "def is_safe(record: list) -> bool:\n",
    "    \"\"\"\n",
    "    Check if a record is safe by this rules:\n",
    "        - integers are either all increasing or all decreasing.\n",
    "        - Any two adjacent integers differ by at least one and at most three.\n",
    "    \"\"\"\n",
    "\n",
    "    is_ordered = (\n",
    "        record == sorted(record, reverse=True)) or (\n",
    "            record == sorted(record, reverse=False)\n",
    "        )\n",
    "\n",
    "    if is_ordered == False:\n",
    "        return False\n",
    "\n",
    "    \"\"\" \n",
    "    Check the second statement:\n",
    "\n",
    "    This is what i thoght doing:\n",
    "    dif = List - conv_list\n",
    "    is max(dif) <= 3, then True, else False\n",
    "\n",
    "    [7, 6, 4, 2, 1]\n",
    "    -  [7, 6, 4, 2, 1]\n",
    "    ------------------\n",
    "    (?)[1, 2, 2, 1](?)\n",
    "\n",
    "    pop the last element and set the first to be the old 0-th + 1 \n",
    "    so that the difference is not 0 and it's invalid due to the second statement.\n",
    "    \"\"\"\n",
    "\n",
    "    conv_record = record.copy()\n",
    "    conv_record.insert(0, record[0] + 1)\n",
    "    conv_record.pop(-1)\n",
    "\n",
    "    difference = [abs(a-b) for a,b in zip(record, conv_record)]\n",
    "\n",
    "    if max(difference) > 3:\n",
    "        return False\n",
    "\n",
    "    if min(difference) == 0:\n",
    "        return False\n",
    "\n",
    "    return True\n",
    "\n",
    "        \n",
    "for record in data:\n",
    "    print(is_safe(record))\n",
    "\n",
    "# Count the number of Trues\n",
    "print(\"Number of safe records: \", sum([is_safe(record) for record in data]))"
   ]
  },
  {
   "cell_type": "code",
   "execution_count": 40,
   "id": "c123aed3",
   "metadata": {},
   "outputs": [
    {
     "name": "stdout",
     "output_type": "stream",
     "text": [
      "Number of safe records:  564\n"
     ]
    }
   ],
   "source": [
    "# All data:\n",
    "data_path = \"data.txt\"\n",
    "\n",
    "data = integer_lists(read_lines(data_path))\n",
    "print(\"Number of safe records: \", sum([is_safe(record) for record in data]))"
   ]
  },
  {
   "cell_type": "markdown",
   "id": "02c258b6",
   "metadata": {},
   "source": [
    "# Part Two\n",
    "```\n",
    "The engineers are surprised by the low number of safe reports until they realize they forgot to tell you about the Problem Dampener.\n",
    "\n",
    "The Problem Dampener is a reactor-mounted module that lets the reactor safety systems tolerate a single bad level in what would otherwise be a safe report. It's like the bad level never happened!\n",
    "\n",
    "Now, the same rules apply as before, except if removing a single level from an unsafe report would make it safe, the report instead counts as safe.\n",
    "\n",
    "More of the above example's reports are now safe:\n",
    "\n",
    "7 6 4 2 1: Safe without removing any level.\n",
    "1 2 7 8 9: Unsafe regardless of which level is removed.\n",
    "9 7 6 2 1: Unsafe regardless of which level is removed.\n",
    "1 3 2 4 5: Safe by removing the second level, 3.\n",
    "8 6 4 4 1: Safe by removing the third level, 4.\n",
    "1 3 6 7 9: Safe without removing any level.\n",
    "Thanks to the Problem Dampener, 4 reports are actually safe!\n",
    "\n",
    "Update your analysis by handling situations where the Problem Dampener can remove a single level from unsafe reports. How many reports are now safe?\n",
    "```"
   ]
  },
  {
   "cell_type": "code",
   "execution_count": 41,
   "id": "4009c6da",
   "metadata": {},
   "outputs": [
    {
     "data": {
      "text/plain": [
       "[[7, 6, 4, 2, 1],\n",
       " [1, 2, 7, 8, 9],\n",
       " [9, 7, 6, 2, 1],\n",
       " [1, 3, 2, 4, 5],\n",
       " [8, 6, 4, 4, 1],\n",
       " [1, 3, 6, 7, 9]]"
      ]
     },
     "execution_count": 41,
     "metadata": {},
     "output_type": "execute_result"
    }
   ],
   "source": [
    "data = integer_lists(read_lines(test_path))\n",
    "data"
   ]
  },
  {
   "cell_type": "code",
   "execution_count": null,
   "id": "1dbea7b1",
   "metadata": {},
   "outputs": [
    {
     "name": "stdout",
     "output_type": "stream",
     "text": [
      "True\n",
      "False\n",
      "False\n",
      "True\n",
      "True\n",
      "True\n"
     ]
    }
   ],
   "source": [
    "def part_2(record) -> bool:\n",
    "    \"\"\" \n",
    "    If removing a single digit makes the level valid, then it's valid.\n",
    "    Approach: \n",
    "        If a record fails, try to remove the i-th element and call is_safe again, \n",
    "        do this untill we run out of elements or all elements are tested.\n",
    "    \"\"\"\n",
    "\n",
    "    if is_safe(record) == True:\n",
    "        return True\n",
    "\n",
    "    for i in range(len(record)):\n",
    "        smaller_record = record.copy()\n",
    "        smaller_record.pop(i)\n",
    "\n",
    "        if is_safe(smaller_record):\n",
    "            return True\n",
    "\n",
    "    return False\n",
    "\n",
    "for record in data:\n",
    "    print(part_2(record))"
   ]
  },
  {
   "cell_type": "code",
   "execution_count": 46,
   "id": "0aafa2ed",
   "metadata": {},
   "outputs": [
    {
     "name": "stdout",
     "output_type": "stream",
     "text": [
      "Number of safe records:  604\n"
     ]
    }
   ],
   "source": [
    "# Test with all data\n",
    "# All data:\n",
    "data_path = \"data.txt\"\n",
    "\n",
    "data = integer_lists(read_lines(data_path))\n",
    "print(\"Number of safe records: \", sum([part_2(record) for record in data]))\n"
   ]
  }
 ],
 "metadata": {
  "kernelspec": {
   "display_name": ".venv",
   "language": "python",
   "name": "python3"
  },
  "language_info": {
   "codemirror_mode": {
    "name": "ipython",
    "version": 3
   },
   "file_extension": ".py",
   "mimetype": "text/x-python",
   "name": "python",
   "nbconvert_exporter": "python",
   "pygments_lexer": "ipython3",
   "version": "3.11.5"
  }
 },
 "nbformat": 4,
 "nbformat_minor": 5
}
