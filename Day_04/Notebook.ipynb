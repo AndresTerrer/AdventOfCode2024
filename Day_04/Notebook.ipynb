{
 "cells": [
  {
   "cell_type": "markdown",
   "id": "dbb59d42",
   "metadata": {},
   "source": [
    "# Day 4: Ceres Search ---\n",
    "```\n",
    "\"Looks like the Chief's not here. Next!\" One of The Historians pulls out a device and pushes the only button on it. After a brief flash, you recognize the interior of the Ceres monitoring station!\n",
    "\n",
    "As the search for the Chief continues, a small Elf who lives on the station tugs on your shirt; she'd like to know if you could help her with her word search (your puzzle input). She only has to find one word: XMAS.\n",
    "\n",
    "This word search allows words to be horizontal, vertical, diagonal, written backwards, or even overlapping other words. It's a little unusual, though, as you don't merely need to find one instance of XMAS - you need to find all of them. Here are a few ways XMAS might appear, where irrelevant characters have been replaced with .:\n",
    "\n",
    "\n",
    "..X...\n",
    ".SAMX.\n",
    ".A..A.\n",
    "XMAS.S\n",
    ".X....\n",
    "The actual word search will be full of letters instead. For example:\n",
    "\n",
    "MMMSXXMASM\n",
    "MSAMXMSMSA\n",
    "AMXSXMAAMM\n",
    "MSAMASMSMX\n",
    "XMASAMXAMM\n",
    "XXAMMXXAMA\n",
    "SMSMSASXSS\n",
    "SAXAMASAAA\n",
    "MAMMMXMMMM\n",
    "MXMXAXMASX\n",
    "In this word search, XMAS occurs a total of 18 times; here's the same word search again, but where letters not involved in any XMAS have been replaced with .:\n",
    "\n",
    "....XXMAS.\n",
    ".SAMXMS...\n",
    "...S..A...\n",
    "..A.A.MS.X\n",
    "XMASAMX.MM\n",
    "X.....XA.A\n",
    "S.S.S.S.SS\n",
    ".A.A.A.A.A\n",
    "..M.M.M.MM\n",
    ".X.X.XMASX\n",
    "Take a look at the little Elf's word search. How many times does XMAS appear?\n",
    "```"
   ]
  },
  {
   "cell_type": "code",
   "execution_count": 228,
   "id": "598241e1",
   "metadata": {},
   "outputs": [],
   "source": [
    "import re\n",
    "import sys\n",
    "sys.path.append(\"..\")\n",
    "\n",
    "from common_processing import read_lines, read_as_character_array,\\\n",
    "    read_columns, read_diagonals\n",
    "\n",
    "test_path = \"test.txt\"\n",
    "data_path = \"data.txt\"\n",
    "\n",
    "# data = read_lines(test_path)\n",
    "# data"
   ]
  },
  {
   "cell_type": "code",
   "execution_count": 229,
   "id": "360acde2",
   "metadata": {},
   "outputs": [
    {
     "data": {
      "text/plain": [
       "' \\nApproach: \\n    - Read lines, columns and diagonals\\n    - count how many times \"XMAS\" or \"SMAX\" shows up in each reading mode\\n\\n'"
      ]
     },
     "execution_count": 229,
     "metadata": {},
     "output_type": "execute_result"
    }
   ],
   "source": [
    "\"\"\" \n",
    "Approach: \n",
    "    - Read lines, columns and diagonals\n",
    "    - count how many times \"XMAS\" or \"SMAX\" shows up in each reading mode\n",
    "\n",
    "\"\"\""
   ]
  },
  {
   "cell_type": "code",
   "execution_count": 230,
   "id": "0b15d8bc",
   "metadata": {},
   "outputs": [
    {
     "data": {
      "text/plain": [
       "(['....XXMAS.',\n",
       "  '.SAMXMS...',\n",
       "  '...S..A...',\n",
       "  '..A.A.MS.X',\n",
       "  'XMASAMX.MM',\n",
       "  'X.....XA.A',\n",
       "  'S.S.S.S.SS',\n",
       "  '.A.A.A.A.A',\n",
       "  '..M.M.M.MM',\n",
       "  '.X.X.XMASX'],\n",
       " ['....XXS...',\n",
       "  '.S..M..A.X',\n",
       "  '.A.AA.S.M.',\n",
       "  '.MS.S..A.X',\n",
       "  'XX.AA.S.M.',\n",
       "  'XM..M..A.X',\n",
       "  'MSAMXXS.MM',\n",
       "  'A..S.A.A.A',\n",
       "  'S...M.S.MS',\n",
       "  '...XMASAMX'],\n",
       " ['.',\n",
       "  'S.',\n",
       "  'A..',\n",
       "  'M..X',\n",
       "  'XS..M',\n",
       "  'XMASMA',\n",
       "  '.X.M..S',\n",
       "  '.M..XASA',\n",
       "  '.ASAMX..M',\n",
       "  '.S..A.SAMX',\n",
       "  '..AS....S',\n",
       "  '..A.SAMA',\n",
       "  '.M....M',\n",
       "  'X.SAMX',\n",
       "  'X....',\n",
       "  'SAMX',\n",
       "  '...',\n",
       "  '.X',\n",
       "  '.'],\n",
       " ['.',\n",
       "  '..',\n",
       "  '.S.',\n",
       "  '.A..',\n",
       "  'XM..X',\n",
       "  'XXSAMX',\n",
       "  'MM..A.S',\n",
       "  'AS.AS...',\n",
       "  'S.A.A.SA.',\n",
       "  '...MM.....',\n",
       "  '..SX.SAMX',\n",
       "  '...X....',\n",
       "  'XMASAMX',\n",
       "  'M.....',\n",
       "  'ASAMX',\n",
       "  'S..M',\n",
       "  'AMA',\n",
       "  'MS',\n",
       "  'X'])"
      ]
     },
     "execution_count": 230,
     "metadata": {},
     "output_type": "execute_result"
    }
   ],
   "source": [
    "text_file_path = \"test_clean.txt\"\n",
    "lines = read_lines(text_file_path)\n",
    "columns = read_columns(text_file_path)\n",
    "\n",
    "arr = read_as_character_array(text_file_path)\n",
    "diags = read_diagonals(arr)\n",
    "inverse_diags = read_diagonals(arr, inverse=True)\n",
    "\n",
    "lines, columns, diags, inverse_diags\n"
   ]
  },
  {
   "cell_type": "code",
   "execution_count": 231,
   "id": "f8f85102",
   "metadata": {},
   "outputs": [
    {
     "name": "stdout",
     "output_type": "stream",
     "text": [
      "18\n"
     ]
    }
   ],
   "source": [
    "XMAS_regex = r\"(?=XMAS|SAMX)\"\n",
    "\n",
    "matches = 0\n",
    "for collection in [lines, columns, diags, inverse_diags]:\n",
    "\n",
    "    for item in collection:\n",
    "\n",
    "        finds = re.finditer(XMAS_regex, item)\n",
    "        results = [find.group(0) for find in finds]\n",
    "        matches += len(results)\n",
    "\n",
    "print(matches)"
   ]
  },
  {
   "cell_type": "code",
   "execution_count": 232,
   "id": "f08877aa",
   "metadata": {},
   "outputs": [
    {
     "name": "stdout",
     "output_type": "stream",
     "text": [
      "2571\n"
     ]
    }
   ],
   "source": [
    "# All data:\n",
    "text_file_path = \"data.txt\"\n",
    "lines = read_lines(text_file_path)\n",
    "columns = read_columns(text_file_path)\n",
    "\n",
    "arr = read_as_character_array(text_file_path)\n",
    "diags = read_diagonals(arr)\n",
    "inverse_diags = read_diagonals(arr, inverse=True)\n",
    "\n",
    "matches = 0\n",
    "for collection in [lines, columns, diags, inverse_diags]:\n",
    "\n",
    "    for item in collection:\n",
    "\n",
    "        finds = re.finditer(XMAS_regex, item)\n",
    "        results = [find.group(0) for find in finds]\n",
    "        matches += len(results)\n",
    "\n",
    "print(matches)\n"
   ]
  },
  {
   "cell_type": "markdown",
   "id": "75d45078",
   "metadata": {},
   "source": [
    "# Part Two\n",
    "```\n",
    "The Elf looks quizzically at you. Did you misunderstand the assignment?\n",
    "\n",
    "Looking for the instructions, you flip over the word search to find that this isn't actually an XMAS puzzle; it's an X-MAS puzzle in which you're supposed to find two MAS in the shape of an X. One way to achieve that is like this:\n",
    "\n",
    "M.S\n",
    ".A.\n",
    "M.S\n",
    "Irrelevant characters have again been replaced with . in the above diagram. Within the X, each MAS can be written forwards or backwards.\n",
    "\n",
    "Here's the same example from before, but this time all of the X-MASes have been kept instead:\n",
    "\n",
    ".M.S......\n",
    "..A..MSMS.\n",
    ".M.S.MAA..\n",
    "..A.ASMSM.\n",
    ".M.S.M....\n",
    "..........\n",
    "S.S.S.S.S.\n",
    ".A.A.A.A..\n",
    "M.M.M.M.M.\n",
    "..........\n",
    "In this example, an X-MAS appears 9 times.\n",
    "\n",
    "Flip the word search from the instructions back over to the word search side and try again. How many times does an X-MAS appear?\n",
    "```"
   ]
  },
  {
   "cell_type": "code",
   "execution_count": 246,
   "id": "75b71911",
   "metadata": {},
   "outputs": [
    {
     "data": {
      "text/plain": [
       "array([['M', 'M', 'M', 'S', 'X', 'X', 'M', 'A', 'S', 'M'],\n",
       "       ['M', 'S', 'A', 'M', 'X', 'M', 'S', 'M', 'S', 'A'],\n",
       "       ['A', 'M', 'X', 'S', 'X', 'M', 'A', 'A', 'M', 'M'],\n",
       "       ['M', 'S', 'A', 'M', 'A', 'S', 'M', 'S', 'M', 'X'],\n",
       "       ['X', 'M', 'A', 'S', 'A', 'M', 'X', 'A', 'M', 'M'],\n",
       "       ['X', 'X', 'A', 'M', 'M', 'X', 'X', 'A', 'M', 'A'],\n",
       "       ['S', 'M', 'S', 'M', 'S', 'A', 'S', 'X', 'S', 'S'],\n",
       "       ['S', 'A', 'X', 'A', 'M', 'A', 'S', 'A', 'A', 'A'],\n",
       "       ['M', 'A', 'M', 'M', 'M', 'X', 'M', 'M', 'M', 'M'],\n",
       "       ['M', 'X', 'M', 'X', 'A', 'X', 'M', 'A', 'S', 'X']], dtype='<U1')"
      ]
     },
     "execution_count": 246,
     "metadata": {},
     "output_type": "execute_result"
    }
   ],
   "source": [
    "\"\"\" \n",
    "New approach: \n",
    "\n",
    "Find all A's, check if its diagonals, If it has 2-S and 2-M then count it,\n",
    "else continue.\n",
    "\n",
    "THIS OVERCOUNTS IF DIAGONALS SPELL MAM OR SAS:\n",
    "\n",
    "- select possible A's\n",
    "- Construct diagonal words\n",
    "- check if they spell MAS or SAM in both diags\n",
    "- count\n",
    "\n",
    "\"\"\"\n",
    "\n",
    "arr = read_as_character_array(text_file_path=test_path)\n",
    "arr\n"
   ]
  },
  {
   "cell_type": "code",
   "execution_count": 234,
   "id": "5d8148ed",
   "metadata": {},
   "outputs": [
    {
     "data": {
      "text/plain": [
       "array([['', '', '', '', '', '', '', 'A', '', ''],\n",
       "       ['', '', 'A', '', '', '', '', '', '', 'A'],\n",
       "       ['A', '', '', '', '', '', 'A', 'A', '', ''],\n",
       "       ['', '', 'A', '', 'A', '', '', '', '', ''],\n",
       "       ['', '', 'A', '', 'A', '', '', 'A', '', ''],\n",
       "       ['', '', 'A', '', '', '', '', 'A', '', 'A'],\n",
       "       ['', '', '', '', '', 'A', '', '', '', ''],\n",
       "       ['', 'A', '', 'A', '', 'A', '', 'A', 'A', 'A'],\n",
       "       ['', 'A', '', '', '', '', '', '', '', ''],\n",
       "       ['', '', '', '', 'A', '', '', 'A', '', '']], dtype='<U1')"
      ]
     },
     "execution_count": 234,
     "metadata": {},
     "output_type": "execute_result"
    }
   ],
   "source": [
    "import numpy as np\n",
    "A_on_array = np.where(arr == \"A\", arr, np.zeros_like(arr))\n",
    "\n",
    "A_on_array\n"
   ]
  },
  {
   "cell_type": "code",
   "execution_count": 235,
   "id": "62884bc4",
   "metadata": {},
   "outputs": [
    {
     "name": "stdout",
     "output_type": "stream",
     "text": [
      "Number of letters A:  24\n",
      "Number of valid letters A:  17\n"
     ]
    }
   ],
   "source": [
    "# Use a new list to store valid indices\n",
    "# Remove A's on the edges\n",
    "A_indeces = list(np.argwhere(A_on_array == \"A\"))\n",
    "print(\"Number of letters A: \",len(A_indeces))\n",
    "\n",
    "n, m = arr.shape\n",
    "\n",
    "valid_A_indices = []\n",
    "\n",
    "for i, j in A_indeces:\n",
    "    if 0 < i < n - 1 and 0 < j < m - 1:\n",
    "        valid_A_indices.append([i, j])\n",
    "\n",
    "print(\"Number of valid letters A: \",len(valid_A_indices))\n"
   ]
  },
  {
   "cell_type": "code",
   "execution_count": null,
   "id": "00c33499",
   "metadata": {},
   "outputs": [
    {
     "data": {
      "text/plain": [
       "True"
      ]
     },
     "execution_count": 243,
     "metadata": {},
     "output_type": "execute_result"
    }
   ],
   "source": [
    "# Return the words written in the corners\n",
    "def check_A(arr, indeces) -> bool:\n",
    "    \"\"\" \n",
    "    Get the diagonals centered at the 'A''s, then \n",
    "    construct the words and check that they spell\n",
    "    either MAS or SAM in both diags.\n",
    "    \"\"\"\n",
    "    i , j = indeces\n",
    "\n",
    "    try:\n",
    "        d1 = arr[i-1][j-1] + arr[i][j] + arr[i+1][j+1]\n",
    "        d2 = arr[i+1][j-1] + arr[i][j] + arr[i-1][j+1]\n",
    "\n",
    "        if re.match(\"MAS|SAM\", d1) and re.match(\"MAS|SAM\", d2):\n",
    "            return True\n",
    "        return False\n",
    "    except IndexError:\n",
    "        return False\n",
    "    \n",
    "\n",
    "\n",
    "check_A(arr, valid_A_indices[0])\n"
   ]
  },
  {
   "cell_type": "code",
   "execution_count": 244,
   "id": "0cef7024",
   "metadata": {},
   "outputs": [
    {
     "name": "stdout",
     "output_type": "stream",
     "text": [
      "1992\n"
     ]
    }
   ],
   "source": [
    "result = 0\n",
    "for indeces in valid_A_indices:\n",
    "    if check_A(arr, indeces):\n",
    "        result += 1\n",
    "\n",
    "print(result)\n"
   ]
  },
  {
   "cell_type": "code",
   "execution_count": 245,
   "id": "731863fc",
   "metadata": {},
   "outputs": [
    {
     "name": "stdout",
     "output_type": "stream",
     "text": [
      "Full data shape: (140, 140)\n",
      "Number of letters A:  4944\n",
      "A Letters not at the edges:  4863\n",
      "Valid X-MAS:  1992\n"
     ]
    }
   ],
   "source": [
    "# All data\n",
    "arr = read_as_character_array(text_file_path=data_path)\n",
    "print(\"Full data shape:\", arr.shape)\n",
    "\n",
    "A_on_array = np.where(arr == \"A\", arr, np.zeros_like(arr))\n",
    "A_indeces = list(np.argwhere(A_on_array == \"A\"))\n",
    "\n",
    "print(\"Number of letters A: \",len(A_indeces))\n",
    "n, m = arr.shape\n",
    "\n",
    "valid_A_indices = []\n",
    "for i, j in A_indeces:\n",
    "    if 0 < i < n - 1 and 0 < j < m - 1:\n",
    "        valid_A_indices.append([i, j])\n",
    "\n",
    "print(\"A Letters not at the edges: \", len(valid_A_indices))\n",
    "\n",
    "result = 0\n",
    "for indeces in valid_A_indices:\n",
    "    if check_A(arr, indeces):\n",
    "        result += 1\n",
    "\n",
    "print(\"Valid X-MAS: \", result)\n"
   ]
  }
 ],
 "metadata": {
  "kernelspec": {
   "display_name": ".venv",
   "language": "python",
   "name": "python3"
  },
  "language_info": {
   "codemirror_mode": {
    "name": "ipython",
    "version": 3
   },
   "file_extension": ".py",
   "mimetype": "text/x-python",
   "name": "python",
   "nbconvert_exporter": "python",
   "pygments_lexer": "ipython3",
   "version": "3.11.5"
  }
 },
 "nbformat": 4,
 "nbformat_minor": 5
}
