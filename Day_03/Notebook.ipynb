{
 "cells": [
  {
   "cell_type": "markdown",
   "id": "8ada05cc",
   "metadata": {},
   "source": [
    "# Day 3: Mull It Over\n",
    "```\n",
    "\"Our computers are having issues, so I have no idea if we have any Chief Historians in stock! You're welcome to check the warehouse, though,\" says the mildly flustered shopkeeper at the North Pole Toboggan Rental Shop. The Historians head out to take a look.\n",
    "\n",
    "The shopkeeper turns to you. \"Any chance you can see why our computers are having issues again?\"\n",
    "\n",
    "The computer appears to be trying to run a program, but its memory (your puzzle input) is corrupted. All of the instructions have been jumbled up!\n",
    "\n",
    "It seems like the goal of the program is just to multiply some numbers. It does that with instructions like mul(X,Y), where X and Y are each 1-3 digit numbers. For instance, mul(44,46) multiplies 44 by 46 to get a result of 2024. Similarly, mul(123,4) would multiply 123 by 4.\n",
    "\n",
    "However, because the program's memory has been corrupted, there are also many invalid characters that should be ignored, even if they look like part of a mul instruction. Sequences like mul(4*, mul(6,9!, ?(12,34), or mul ( 2 , 4 ) do nothing.\n",
    "\n",
    "For example, consider the following section of corrupted memory:\n",
    "\n",
    "xmul(2,4)%&mul[3,7]!@^do_not_mul(5,5)+mul(32,64]then(mul(11,8)mul(8,5))\n",
    "Only the four highlighted sections are real mul instructions. Adding up the result of each instruction produces 161 (2*4 + 5*5 + 11*8 + 8*5).\n",
    "\n",
    "Scan the corrupted memory for uncorrupted mul instructions. What do you get if you add up all of the results of the multiplications?\n",
    "```"
   ]
  },
  {
   "cell_type": "code",
   "execution_count": 6,
   "id": "92144b84",
   "metadata": {},
   "outputs": [
    {
     "data": {
      "text/plain": [
       "['xmul(2,4)%&mul[3,7]!@^do_not_mul(5,5)+mul(32,64]then(mul(11,8)mul(8,5))']"
      ]
     },
     "execution_count": 6,
     "metadata": {},
     "output_type": "execute_result"
    }
   ],
   "source": [
    "import sys\n",
    "sys.path.append(\"..\")\n",
    "\n",
    "from common_processing import read_lines, integer_lists\n",
    "\n",
    "test_path = \"test.txt\"\n",
    "data_path = \"data.txt\"\n",
    "\n",
    "data = read_lines(test_path)\n",
    "data"
   ]
  },
  {
   "cell_type": "code",
   "execution_count": null,
   "id": "08ae5d5c",
   "metadata": {},
   "outputs": [
    {
     "data": {
      "text/plain": [
       "8"
      ]
     },
     "execution_count": 16,
     "metadata": {},
     "output_type": "execute_result"
    }
   ],
   "source": [
    "# Use regex to get the valid mul statemetes:\n",
    "\"\"\" \n",
    "valid mul statements are:\n",
    "mul(a,b) exactly, where a and b are integers\n",
    "\"\"\"\n",
    "\n",
    "mul_regex = r\"mul\\(\\d+,\\d+\\)\"\n",
    "\n",
    "import re\n",
    "\n",
    "matches = re.findall(mul_regex, data[0])\n",
    "\n",
    "# get pairs of integers for each match \n",
    "\n",
    "m = matches[0]\n",
    "\n",
    "a, b  = [int(n) for n in re.findall(r\"\\d+\", m)]\n",
    "a *b "
   ]
  },
  {
   "cell_type": "code",
   "execution_count": 17,
   "id": "b20f0dfe",
   "metadata": {},
   "outputs": [
    {
     "name": "stdout",
     "output_type": "stream",
     "text": [
      "Result:  161\n"
     ]
    }
   ],
   "source": [
    "result = 0\n",
    "\n",
    "for m in matches:\n",
    "    a, b  = [int(n) for n in re.findall(r\"\\d+\", m)]\n",
    "    result += a * b\n",
    "\n",
    "print(\"Result: \", result)"
   ]
  },
  {
   "cell_type": "code",
   "execution_count": 24,
   "id": "c8c32f28",
   "metadata": {},
   "outputs": [
    {
     "name": "stdout",
     "output_type": "stream",
     "text": [
      "Result:  159892596\n"
     ]
    }
   ],
   "source": [
    "# All data: \n",
    "data = read_lines(data_path)\n",
    "\n",
    "# concatenate all data lines\n",
    "\n",
    "all_data = \"\".join(data)\n",
    "matches = re.findall(mul_regex, all_data)\n",
    "result = 0\n",
    "for m in matches:\n",
    "    a, b  = [int(n) for n in re.findall(r\"\\d+\", m)]\n",
    "    result += a * b\n",
    "\n",
    "print(\"Result: \", result)"
   ]
  },
  {
   "cell_type": "markdown",
   "id": "6ee16606",
   "metadata": {},
   "source": [
    "# Part Two\n",
    "```\n",
    "As you scan through the corrupted memory, you notice that some of the conditional statements are also still intact. If you handle some of the uncorrupted conditional statements in the program, you might be able to get an even more accurate result.\n",
    "\n",
    "There are two new instructions you'll need to handle:\n",
    "\n",
    "The do() instruction enables future mul instructions.\n",
    "The don't() instruction disables future mul instructions.\n",
    "Only the most recent do() or don't() instruction applies. At the beginning of the program, mul instructions are enabled.\n",
    "\n",
    "For example:\n",
    "\n",
    "xmul(2,4)&mul[3,7]!^don't()_mul(5,5)+mul(32,64](mul(11,8)undo()?mul(8,5))\n",
    "This corrupted memory is similar to the example from before, but this time the mul(5,5) and mul(11,8) instructions are disabled because there is a don't() instruction before them. The other mul instructions function normally, including the one at the end that gets re-enabled by a do() instruction.\n",
    "\n",
    "This time, the sum of the results is 48 (2*4 + 8*5).\n",
    "\n",
    "Handle the new instructions; what do you get if you add up all of the results of just the enabled multiplications?\n",
    "```"
   ]
  },
  {
   "cell_type": "code",
   "execution_count": 29,
   "id": "aad12ed1",
   "metadata": {},
   "outputs": [
    {
     "data": {
      "text/plain": [
       "[\"xmul(2,4)&mul[3,7]!^don't()_mul(5,5)+mul(32,64](mul(11,8)undo()?mul(8,5))\"]"
      ]
     },
     "execution_count": 29,
     "metadata": {},
     "output_type": "execute_result"
    }
   ],
   "source": [
    "data = read_lines(\"test2.txt\")\n",
    "data\n"
   ]
  },
  {
   "cell_type": "code",
   "execution_count": null,
   "id": "9962b6d1",
   "metadata": {},
   "outputs": [
    {
     "data": {
      "text/plain": [
       "['mul(2,4)', \"don't()\", 'mul(5,5)', 'mul(11,8)', 'do()', 'mul(8,5)']"
      ]
     },
     "execution_count": 30,
     "metadata": {},
     "output_type": "execute_result"
    }
   ],
   "source": [
    "# More complex regex to match both mul() , do() and dont() statements, then filter\n",
    "# the valid mul statements only\n",
    "\n",
    "mul_do_dont_regex = r\"mul\\(\\d+,\\d+\\)|do\\(\\)|don't\\(\\)\"\n",
    "matches = re.findall(mul_do_dont_regex, data[0])\n",
    "matches\n"
   ]
  },
  {
   "cell_type": "code",
   "execution_count": 31,
   "id": "f73526f0",
   "metadata": {},
   "outputs": [
    {
     "data": {
      "text/plain": [
       "['mul(2,4)', 'mul(8,5)']"
      ]
     },
     "execution_count": 31,
     "metadata": {},
     "output_type": "execute_result"
    }
   ],
   "source": [
    "# Select matches\n",
    "select = True\n",
    "selected_matches = []\n",
    "for m in matches:\n",
    "\n",
    "    if m == \"do()\":\n",
    "        select = True\n",
    "        continue\n",
    "\n",
    "    if m == \"don't()\":\n",
    "        select = False\n",
    "        continue\n",
    "\n",
    "    if select == True:\n",
    "        selected_matches.append(m)\n",
    "\n",
    "selected_matches"
   ]
  },
  {
   "cell_type": "code",
   "execution_count": 32,
   "id": "f1049ae5",
   "metadata": {},
   "outputs": [
    {
     "name": "stdout",
     "output_type": "stream",
     "text": [
      "Result:  48\n"
     ]
    }
   ],
   "source": [
    "# Run part 1 with selected matches\n",
    "result = 0\n",
    "for m in selected_matches:\n",
    "    a, b  = [int(n) for n in re.findall(r\"\\d+\", m)]\n",
    "    result += a * b\n",
    "\n",
    "print(\"Result: \", result)"
   ]
  },
  {
   "cell_type": "code",
   "execution_count": 35,
   "id": "f0a08b03",
   "metadata": {},
   "outputs": [
    {
     "name": "stdout",
     "output_type": "stream",
     "text": [
      "Result:  92626942\n"
     ]
    }
   ],
   "source": [
    "# Now use all data:\n",
    "data = read_lines(data_path)\n",
    "\n",
    "# concatenate all data lines\n",
    "all_data = \"\".join(data)\n",
    "matches = re.findall(mul_do_dont_regex, all_data)\n",
    "\n",
    "# Select matches\n",
    "select = True\n",
    "selected_matches = []\n",
    "for m in matches:\n",
    "\n",
    "    if m == \"do()\":\n",
    "        select = True\n",
    "        continue\n",
    "\n",
    "    if m == \"don't()\":\n",
    "        select = False\n",
    "        continue\n",
    "\n",
    "    if select == True:\n",
    "        selected_matches.append(m)\n",
    "\n",
    "\n",
    "result = 0\n",
    "for m in selected_matches:\n",
    "    a, b  = [int(n) for n in re.findall(r\"\\d+\", m)]\n",
    "    result += a * b\n",
    "\n",
    "print(\"Result: \", result)"
   ]
  }
 ],
 "metadata": {
  "kernelspec": {
   "display_name": ".venv",
   "language": "python",
   "name": "python3"
  },
  "language_info": {
   "codemirror_mode": {
    "name": "ipython",
    "version": 3
   },
   "file_extension": ".py",
   "mimetype": "text/x-python",
   "name": "python",
   "nbconvert_exporter": "python",
   "pygments_lexer": "ipython3",
   "version": "3.11.5"
  }
 },
 "nbformat": 4,
 "nbformat_minor": 5
}
