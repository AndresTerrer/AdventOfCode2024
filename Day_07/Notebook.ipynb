{
 "cells": [
  {
   "cell_type": "markdown",
   "id": "f47c1ef6",
   "metadata": {},
   "source": [
    "# Day 7: Bridge Repair\n",
    "```\n",
    "The Historians take you to a familiar rope bridge over a river in the middle of a jungle. The Chief isn't on this side of the bridge, though; maybe he's on the other side?\n",
    "\n",
    "When you go to cross the bridge, you notice a group of engineers trying to repair it. (Apparently, it breaks pretty frequently.) You won't be able to cross until it's fixed.\n",
    "\n",
    "You ask how long it'll take; the engineers tell you that it only needs final calibrations, but some young elephants were playing nearby and stole all the operators from their calibration equations! They could finish the calibrations if only someone could determine which test values could possibly be produced by placing any combination of operators into their calibration equations (your puzzle input).\n",
    "\n",
    "For example:\n",
    "\n",
    "190: 10 19\n",
    "3267: 81 40 27\n",
    "83: 17 5\n",
    "156: 15 6\n",
    "7290: 6 8 6 15\n",
    "161011: 16 10 13\n",
    "192: 17 8 14\n",
    "21037: 9 7 18 13\n",
    "292: 11 6 16 20\n",
    "Each line represents a single equation. The test value appears before the colon on each line; it is your job to determine whether the remaining numbers can be combined with operators to produce the test value.\n",
    "\n",
    "Operators are always evaluated left-to-right, not according to precedence rules. Furthermore, numbers in the equations cannot be rearranged. Glancing into the jungle, you can see elephants holding two different types of operators: add (+) and multiply (*).\n",
    "\n",
    "Only three of the above equations can be made true by inserting operators:\n",
    "\n",
    "190: 10 19 has only one position that accepts an operator: between 10 and 19. Choosing + would give 29, but choosing * would give the test value (10 * 19 = 190).\n",
    "3267: 81 40 27 has two positions for operators. Of the four possible configurations of the operators, two cause the right side to match the test value: 81 + 40 * 27 and 81 * 40 + 27 both equal 3267 (when evaluated left-to-right)!\n",
    "292: 11 6 16 20 can be solved in exactly one way: 11 + 6 * 16 + 20.\n",
    "The engineers just need the total calibration result, which is the sum of the test values from just the equations that could possibly be true. In the above example, the sum of the test values for the three equations listed above is 3749.\n",
    "\n",
    "Determine which equations could possibly be true. What is their total calibration result?\n",
    "```"
   ]
  },
  {
   "cell_type": "code",
   "execution_count": 2,
   "id": "4689c24a",
   "metadata": {},
   "outputs": [],
   "source": [
    "import re\n",
    "import sys\n",
    "sys.path.append(\"..\")\n",
    "\n",
    "from common_processing import read_lines, read_as_character_array,\\\n",
    "    read_columns, read_diagonals\n",
    "\n",
    "test_path = \"test.txt\"\n",
    "data_path = \"data.txt\"\n",
    "\n",
    "# data = read_lines(test_path)\n",
    "# data"
   ]
  },
  {
   "cell_type": "code",
   "execution_count": 3,
   "id": "84e40e53",
   "metadata": {},
   "outputs": [
    {
     "data": {
      "text/plain": [
       "{190: [10, 19],\n",
       " 3267: [81, 40, 27],\n",
       " 83: [17, 5],\n",
       " 156: [15, 6],\n",
       " 7290: [6, 8, 6, 15],\n",
       " 161011: [16, 10, 13],\n",
       " 192: [17, 8, 14],\n",
       " 21037: [9, 7, 18, 13],\n",
       " 292: [11, 6, 16, 20]}"
      ]
     },
     "execution_count": 3,
     "metadata": {},
     "output_type": "execute_result"
    }
   ],
   "source": [
    "# Wrapp this transformation into a function for later\n",
    "def create_data_dict(path: str) -> dict[int:list]:\n",
    "    \"\"\" \n",
    "    Let's parse the list as a dictionary of integers to a list of integers\n",
    "    NOTE: this structure will not work if some results are duplicated ... \n",
    "    It looks like there are none in the full data, so we are clear.\n",
    "    \"\"\"\n",
    "\n",
    "    data = read_lines(path)\n",
    "    data = {\n",
    "        int(number):components for number, components in \n",
    "        [line.split(\":\") for line in data]\n",
    "    }\n",
    "    # Turn the values of the dict into a list of integers\n",
    "    for key, value in data.items():\n",
    "        data[key] = [int(x) for x in value.strip().split(\" \")]\n",
    "\n",
    "    return data\n",
    "\n",
    "data = create_data_dict(test_path)\n",
    "data"
   ]
  },
  {
   "cell_type": "code",
   "execution_count": null,
   "id": "9b6f1111",
   "metadata": {},
   "outputs": [
    {
     "data": {
      "text/plain": [
       "[81, 40, 27]"
      ]
     },
     "execution_count": 5,
     "metadata": {},
     "output_type": "execute_result"
    }
   ],
   "source": [
    "# Approach: \n",
    "\"\"\" \n",
    "For each list, compute each possible permutation of adding and multiplying\n",
    "if any match the key, then select it.\n",
    "\n",
    "Later we add all valid values\n",
    "\"\"\""
   ]
  },
  {
   "cell_type": "code",
   "execution_count": null,
   "id": "fed2c958",
   "metadata": {},
   "outputs": [
    {
     "name": "stdout",
     "output_type": "stream",
     "text": [
      "('+', '+')\n",
      "('+', '*')\n",
      "('*', '+')\n",
      "('*', '*')\n"
     ]
    },
    {
     "data": {
      "text/plain": [
       "[None, None, None, None]"
      ]
     },
     "execution_count": 33,
     "metadata": {},
     "output_type": "execute_result"
    }
   ],
   "source": [
    "import itertools\n",
    "def get_operation_options(length: int) -> itertools.product:\n",
    "    \"\"\" \n",
    "    For a given lenght, there are length - 1 operation spaces and\n",
    "    2 possible combinations, add + or multiply *\n",
    "    length: actual length of the list of numbers\n",
    "\n",
    "    returns\n",
    "    \"\"\"\n",
    "\n",
    "    operations = [\"+\", \"*\"]\n",
    "\n",
    "    return itertools.product(operations, repeat=(length - 1))\n",
    "\n",
    "options = get_operation_options(3)\n",
    "[print(o) for o in options]"
   ]
  },
  {
   "cell_type": "code",
   "execution_count": null,
   "id": "1fb7c1b2",
   "metadata": {},
   "outputs": [
    {
     "data": {
      "text/plain": [
       "3267"
      ]
     },
     "execution_count": 48,
     "metadata": {},
     "output_type": "execute_result"
    }
   ],
   "source": [
    "# Compute the result of one list and one option for its operations\n",
    "\n",
    "def compute_operations(numbers: list[int], operations: tuple[str]) -> int:\n",
    "    \"\"\" \n",
    "    Given a list of numbers and a list of operations, compute its value.\n",
    "    \"\"\" \n",
    "    # the first number is the starting point, then use the rest\n",
    "    result = numbers[0]\n",
    "    numbers = numbers[1:]\n",
    "    for n, o in zip(numbers, operations):\n",
    "\n",
    "        if o == \"+\":\n",
    "            result += n\n",
    "        if o == \"*\":\n",
    "            result *= n\n",
    "\n",
    "    return result\n",
    "\n",
    "compute_operations([81, 40, 27], (\"*\", \"+\"))  # 3267 : [81, 40, 27]"
   ]
  },
  {
   "cell_type": "code",
   "execution_count": 49,
   "id": "fbc9a5f8",
   "metadata": {},
   "outputs": [
    {
     "name": "stdout",
     "output_type": "stream",
     "text": [
      "3267\n",
      "3267\n"
     ]
    }
   ],
   "source": [
    "# Loops\n",
    "value = 3267\n",
    "components = data[value]\n",
    "options = get_operation_options(len(components))\n",
    "\n",
    "for o in options:\n",
    "    if compute_operations(components, o) == value:\n",
    "        print(value)\n"
   ]
  },
  {
   "cell_type": "code",
   "execution_count": 50,
   "id": "8bc01285",
   "metadata": {},
   "outputs": [
    {
     "name": "stdout",
     "output_type": "stream",
     "text": [
      "3749\n"
     ]
    }
   ],
   "source": [
    "# loop over all data:\n",
    "result = 0\n",
    "for value, components in data.items():\n",
    "    options = get_operation_options(len(components))\n",
    "    for o in options:\n",
    "        if compute_operations(components, o) == value:\n",
    "            result += value\n",
    "            break\n",
    "\n",
    "print(result)"
   ]
  },
  {
   "cell_type": "code",
   "execution_count": 51,
   "id": "6a0bd56c",
   "metadata": {},
   "outputs": [
    {
     "name": "stdout",
     "output_type": "stream",
     "text": [
      "1153997401072\n"
     ]
    }
   ],
   "source": [
    "# Try on all data\n",
    "data = create_data_dict(data_path)\n",
    "\n",
    "result = 0\n",
    "for value, components in data.items():\n",
    "    options = get_operation_options(len(components))\n",
    "    for o in options:\n",
    "        if compute_operations(components, o) == value:\n",
    "            result += value\n",
    "            break\n",
    "\n",
    "print(result)"
   ]
  },
  {
   "cell_type": "markdown",
   "id": "f6876d4d",
   "metadata": {},
   "source": [
    "# Part Two ---\n",
    "```\n",
    "The engineers seem concerned; the total calibration result you gave them is nowhere close to being within safety tolerances. Just then, you spot your mistake: some well-hidden elephants are holding a third type of operator.\n",
    "\n",
    "The concatenation operator (||) combines the digits from its left and right inputs into a single number. For example, 12 || 345 would become 12345. All operators are still evaluated left-to-right.\n",
    "\n",
    "Now, apart from the three equations that could be made true using only addition and multiplication, the above example has three more equations that can be made true by inserting operators:\n",
    "\n",
    "156: 15 6 can be made true through a single concatenation: 15 || 6 = 156.\n",
    "7290: 6 8 6 15 can be made true using 6 * 8 || 6 * 15.\n",
    "192: 17 8 14 can be made true using 17 || 8 + 14.\n",
    "Adding up all six test values (the three that could be made before using only + and * plus the new three that can now be made by also using ||) produces the new total calibration result of 11387.\n",
    "\n",
    "Using your new knowledge of elephant hiding spots, determine which equations could possibly be true. What is their total calibration result?\n",
    "```\n",
    " "
   ]
  },
  {
   "cell_type": "code",
   "execution_count": 61,
   "id": "b7caa035",
   "metadata": {},
   "outputs": [
    {
     "data": {
      "text/plain": [
       "729"
      ]
     },
     "execution_count": 61,
     "metadata": {},
     "output_type": "execute_result"
    }
   ],
   "source": [
    "# we just add another symbol and operation to compute.\n",
    "def get_operation_options_2(length: int) -> itertools.product:\n",
    "    \"\"\" \n",
    "    For a given lenght, there are length - 1 operation spaces and\n",
    "    2 possible combinations, add + or multiply *\n",
    "    length: actual length of the list of numbers\n",
    "\n",
    "    returns\n",
    "    \"\"\"\n",
    "\n",
    "    operations = [\"+\", \"*\", \"||\"]\n",
    "\n",
    "    return itertools.product(operations, repeat=(length - 1))\n",
    "options = get_operation_options_2(7)\n",
    "len([o for o in options])"
   ]
  },
  {
   "cell_type": "code",
   "execution_count": 62,
   "id": "4f477473",
   "metadata": {},
   "outputs": [],
   "source": [
    "def compute_operations_2(numbers: list[int], operations: tuple[str]) -> int:\n",
    "    \"\"\" \n",
    "    Given a list of numbers and a list of operations, compute its value.\n",
    "    \"\"\" \n",
    "    # the first number is the starting point, then use the rest\n",
    "    result = numbers[0]\n",
    "    numbers = numbers[1:]\n",
    "    for n, o in zip(numbers, operations):\n",
    "\n",
    "        if o == \"+\":\n",
    "            result += n\n",
    "        if o == \"*\":\n",
    "            result *= n\n",
    "        if o == \"||\":\n",
    "            result = int(str(result) + str(n))\n",
    "\n",
    "    return result"
   ]
  },
  {
   "cell_type": "code",
   "execution_count": 63,
   "id": "d66a5f95",
   "metadata": {},
   "outputs": [
    {
     "name": "stdout",
     "output_type": "stream",
     "text": [
      "11387\n"
     ]
    }
   ],
   "source": [
    "# run with test\n",
    "data = create_data_dict(test_path)\n",
    "\n",
    "result = 0\n",
    "for value, components in data.items():\n",
    "    options = get_operation_options_2(len(components))\n",
    "    for o in options:\n",
    "        if compute_operations_2(components, o) == value:\n",
    "            result += value\n",
    "            break\n",
    "\n",
    "print(result)\n"
   ]
  },
  {
   "cell_type": "code",
   "execution_count": 64,
   "id": "96a06829",
   "metadata": {},
   "outputs": [
    {
     "name": "stdout",
     "output_type": "stream",
     "text": [
      "97902809384118\n"
     ]
    }
   ],
   "source": [
    "# run with data\n",
    "data = create_data_dict(data_path)\n",
    "\n",
    "result = 0\n",
    "for value, components in data.items():\n",
    "    options = get_operation_options_2(len(components))\n",
    "    for o in options:\n",
    "        if compute_operations_2(components, o) == value:\n",
    "            result += value\n",
    "            break\n",
    "\n",
    "print(result)\n"
   ]
  }
 ],
 "metadata": {
  "kernelspec": {
   "display_name": ".venv",
   "language": "python",
   "name": "python3"
  },
  "language_info": {
   "codemirror_mode": {
    "name": "ipython",
    "version": 3
   },
   "file_extension": ".py",
   "mimetype": "text/x-python",
   "name": "python",
   "nbconvert_exporter": "python",
   "pygments_lexer": "ipython3",
   "version": "3.11.5"
  }
 },
 "nbformat": 4,
 "nbformat_minor": 5
}
